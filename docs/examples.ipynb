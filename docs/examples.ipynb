{
 "cells": [
  {
   "cell_type": "code",
   "execution_count": null,
   "metadata": {},
   "outputs": [],
   "source": [
    "import pyarrow.dataset as ds\n",
    "from graphique import GraphQL\n",
    "\n",
    "format = ds.ParquetFileFormat(read_options={'dictionary_columns': ['state']})\n",
    "dataset = ds.dataset('../tests/fixtures/zipcodes.parquet', format=format)\n",
    "app = GraphQL(dataset)\n",
    "\n",
    "\n",
    "def execute(query):\n",
    "    result = app.schema.execute_sync(query, root_value=app.root_value)\n",
    "    for error in result.errors or []:\n",
    "        raise ValueError(error)\n",
    "    return result.data"
   ]
  },
  {
   "cell_type": "code",
   "execution_count": null,
   "metadata": {},
   "outputs": [],
   "source": [
    "execute(\n",
    "    '''{\n",
    "length\n",
    "schema {\n",
    "    names\n",
    "    types\n",
    "    index\n",
    "}\n",
    "}'''\n",
    ")"
   ]
  },
  {
   "cell_type": "code",
   "execution_count": null,
   "metadata": {},
   "outputs": [],
   "source": [
    "# California counties with the most cities\n",
    "execute(\n",
    "    '''{\n",
    "filter(state: {eq: \"CA\"}) {\n",
    "    group(by: \"county\", aggregate: {countDistinct: {name: \"city\", alias: \"cities\"}}) {\n",
    "        sort(by: \"-cities\", length: 5) {\n",
    "            columns {\n",
    "                county {\n",
    "                    values\n",
    "                }\n",
    "            }\n",
    "            cities: column(name: \"cities\") {\n",
    "                ... on LongColumn {\n",
    "                    values\n",
    "                }\n",
    "            }\n",
    "        }\n",
    "    }\n",
    "}\n",
    "}'''\n",
    ")"
   ]
  }
 ],
 "metadata": {
  "kernelspec": {
   "display_name": "Python 3.10.6 ('.venv': venv)",
   "language": "python",
   "name": "python3"
  },
  "language_info": {
   "name": "python",
   "version": "3.10.6"
  },
  "orig_nbformat": 4,
  "vscode": {
   "interpreter": {
    "hash": "fe1d9005a8a33982f05f67810ca98c5c9c7de363fa0f442feea70330697eb4e5"
   }
  }
 },
 "nbformat": 4,
 "nbformat_minor": 2
}
