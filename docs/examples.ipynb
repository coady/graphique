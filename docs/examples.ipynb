{
 "cells": [
  {
   "cell_type": "code",
   "execution_count": null,
   "metadata": {},
   "outputs": [],
   "source": [
    "import ibis\n",
    "from graphique import GraphQL\n",
    "from strawberry.utils.str_converters import to_camel_case\n",
    "\n",
    "\n",
    "def execute(query):\n",
    "    result = app.schema.execute_sync(query, root_value=app.root_value)\n",
    "    for error in result.errors or []:\n",
    "        raise ValueError(error)\n",
    "    return result.data\n",
    "\n",
    "\n",
    "table = ibis.read_parquet('../tests/fixtures/zipcodes.parquet')\n",
    "# example projection: camel-cased fields (not relevant in this dataset)\n",
    "_ = table.select({to_camel_case(name): table[name] for name in table.columns})\n",
    "app = GraphQL(table)"
   ]
  },
  {
   "attachments": {},
   "cell_type": "markdown",
   "metadata": {},
   "source": [
    "### View schema."
   ]
  },
  {
   "cell_type": "code",
   "execution_count": null,
   "metadata": {},
   "outputs": [],
   "source": [
    "execute(\"\"\"{\n",
    "  count\n",
    "  schema {\n",
    "    names\n",
    "    types\n",
    "    partitioning\n",
    "  }\n",
    "}\"\"\")"
   ]
  },
  {
   "attachments": {},
   "cell_type": "markdown",
   "metadata": {},
   "source": [
    "### Find California counties with the most cities.\n",
    "* `filter` state by \"CA\"\n",
    "* `group` by county\n",
    "  * aggregate distinct cities\n",
    "* `project` city count\n",
    "* `order` by city counts descending\n",
    "* access `columns`\n",
    "  * `county` is still known in the schema\n",
    "  * cities is a new `column` accessed through an inline fragment"
   ]
  },
  {
   "cell_type": "code",
   "execution_count": null,
   "metadata": {},
   "outputs": [],
   "source": [
    "execute(\"\"\"{\n",
    "  filter(state: {eq: \"CA\"}) {\n",
    "    group(by: \"county\", aggregate: {collect: {name: \"city\", distinct: true}}) {\n",
    "\t  project(columns: {alias: \"cities\", array: {length: {name: \"city\"}}}) {\n",
    "        order(by: \"-cities\", limit: 5) {\n",
    "          columns {\n",
    "            county {\n",
    "              values\n",
    "            }\n",
    "          }\n",
    "          cities: column(name: \"cities\") {\n",
    "            ... on BigIntColumn {\n",
    "              values\n",
    "            }\n",
    "          }\n",
    "        }\n",
    "      }\n",
    "    }\n",
    "  }\n",
    "}\"\"\")"
   ]
  },
  {
   "attachments": {},
   "cell_type": "markdown",
   "metadata": {},
   "source": [
    "### Find states with cities which match the name of their county.\n",
    "* `filter` using `where` expression, because comparing two columns is not a \"simple\" query\n",
    "* `Column.distinct` instead of `group`, because no other aggregates are needed"
   ]
  },
  {
   "cell_type": "code",
   "execution_count": null,
   "metadata": {},
   "outputs": [],
   "source": [
    "execute(\"\"\"{\n",
    "  filter(where: {eq: [{name: \"county\"}, {name: \"city\"}]}) {\n",
    "    columns {\n",
    "      state {\n",
    "        distinct {\n",
    "          values\n",
    "        }\n",
    "      }\n",
    "    }\n",
    "  }\n",
    "}\"\"\")"
   ]
  },
  {
   "attachments": {},
   "cell_type": "markdown",
   "metadata": {},
   "source": [
    "### States which have no cities which match the name of their county.\n",
    "The opposite of the previous example. Filtering rows would drop needed data; the \"zeros\" have to be counted.\n",
    "* `project` column matching names instead of filtering\n",
    "* `group` by state\n",
    "  * aggregate whether there are `any` matches\n",
    "* `filter` for no matches\n",
    "* access column\n"
   ]
  },
  {
   "cell_type": "code",
   "execution_count": null,
   "metadata": {},
   "outputs": [],
   "source": [
    "execute(\"\"\"{\n",
    "  project(columns: {alias: \"match\", eq: [{name: \"county\"}, {name: \"city\"}]}) {\n",
    "    group(by: \"state\", aggregate: {any: {name: \"match\"}}) {\n",
    "      filter(where: {inv: {name: \"match\"}}) {\n",
    "        columns {\n",
    "          state {\n",
    "            values\n",
    "          }\n",
    "        }\n",
    "      }\n",
    "    }\n",
    "  }\n",
    "}\"\"\")"
   ]
  }
 ],
 "metadata": {
  "kernelspec": {
   "display_name": ".venv",
   "language": "python",
   "name": "python3"
  },
  "language_info": {
   "codemirror_mode": {
    "name": "ipython",
    "version": 3
   },
   "file_extension": ".py",
   "mimetype": "text/x-python",
   "name": "python",
   "nbconvert_exporter": "python",
   "pygments_lexer": "ipython3",
   "version": "3.13.7"
  },
  "orig_nbformat": 4
 },
 "nbformat": 4,
 "nbformat_minor": 2
}
