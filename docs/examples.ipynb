{
 "cells": [
  {
   "cell_type": "code",
   "execution_count": null,
   "metadata": {},
   "outputs": [],
   "source": [
    "import pyarrow.dataset as ds\n",
    "from graphique import GraphQL\n",
    "\n",
    "\n",
    "def execute(query):\n",
    "    result = app.schema.execute_sync(query, root_value=app.root_value, context_value={})\n",
    "    for error in result.errors or []:\n",
    "        raise ValueError(error)\n",
    "    return result.data\n",
    "\n",
    "\n",
    "format = ds.ParquetFileFormat(read_options={'dictionary_columns': ['state']})\n",
    "dataset = ds.dataset('../tests/fixtures/zipcodes.parquet', format=format)\n",
    "app = GraphQL(dataset)"
   ]
  },
  {
   "attachments": {},
   "cell_type": "markdown",
   "metadata": {},
   "source": [
    "### Introspect the dataset."
   ]
  },
  {
   "cell_type": "code",
   "execution_count": null,
   "metadata": {},
   "outputs": [],
   "source": [
    "execute(\"\"\"{\n",
    "  length\n",
    "  schema {\n",
    "    names\n",
    "    types\n",
    "    partitioning\n",
    "    index\n",
    "  }\n",
    "}\"\"\")"
   ]
  },
  {
   "attachments": {},
   "cell_type": "markdown",
   "metadata": {},
   "source": [
    "### Loading options\n",
    "* Ibis table with camel-cased fields (not relevant in this dataset)\n",
    "* Table already read"
   ]
  },
  {
   "cell_type": "code",
   "execution_count": null,
   "metadata": {},
   "outputs": [],
   "source": [
    "import ibis\n",
    "from strawberry.utils.str_converters import to_camel_case\n",
    "\n",
    "columns = {to_camel_case(name): ibis._[name] for name in dataset.schema.names}\n",
    "GraphQL(ibis.read_parquet('../tests/fixtures/zipcodes.parquet').select(columns))"
   ]
  },
  {
   "cell_type": "code",
   "execution_count": null,
   "metadata": {},
   "outputs": [],
   "source": [
    "GraphQL(dataset.to_table())"
   ]
  },
  {
   "attachments": {},
   "cell_type": "markdown",
   "metadata": {},
   "source": [
    "### Find California counties with the most cities.\n",
    "* `filter` state by \"CA\"\n",
    "* `group` by county\n",
    "  * aggregate distinct count of cities\n",
    "* `sort` by city counts descending\n",
    "* access `columns`\n",
    "  * `county` is still known in the schema\n",
    "  * cities is a new `column` accessed through an inline fragment"
   ]
  },
  {
   "cell_type": "code",
   "execution_count": null,
   "metadata": {},
   "outputs": [],
   "source": [
    "execute(\"\"\"{\n",
    "  filter(state: {eq: \"CA\"}) {\n",
    "    group(by: \"county\", aggregate: {countDistinct: {name: \"city\", alias: \"cities\"}}) {\n",
    "      sort(by: \"-cities\", length: 5) {\n",
    "        columns {\n",
    "          county {\n",
    "            values\n",
    "          }\n",
    "        }\n",
    "        cities: column(name: \"cities\") {\n",
    "          ... on LongColumn {\n",
    "            values\n",
    "          }\n",
    "        }\n",
    "      }\n",
    "    }\n",
    "  }\n",
    "}\"\"\")"
   ]
  },
  {
   "attachments": {},
   "cell_type": "markdown",
   "metadata": {},
   "source": [
    "### Find states with cities which match the name of their county.\n",
    "* `scan` instead of `filter`, because comparing two columns is not a \"simple\" query\n",
    "* `Column.unique` instead of `group`, because no other aggregates are needed"
   ]
  },
  {
   "cell_type": "code",
   "execution_count": null,
   "metadata": {},
   "outputs": [],
   "source": [
    "execute(\"\"\"{\n",
    "  scan(filter: {eq: [{name: \"county\"}, {name: \"city\"}]}) {\n",
    "    columns {\n",
    "      state {\n",
    "        unique {\n",
    "          length\n",
    "          values\n",
    "        }\n",
    "      }\n",
    "    }\n",
    "  }\n",
    "}\"\"\")"
   ]
  },
  {
   "attachments": {},
   "cell_type": "markdown",
   "metadata": {},
   "source": [
    "### States which have no cities which match the name of their county.\n",
    "The opposite of the previous example. Filtering rows would drop needed data; the \"zeros\" have to be counted.\n",
    "* `scan` with projected column matching names instead of filtering\n",
    "* `group` by state\n",
    "  * aggregate whether there are `any` matches\n",
    "* `scan` for no matches\n",
    "* access column\n"
   ]
  },
  {
   "cell_type": "code",
   "execution_count": null,
   "metadata": {},
   "outputs": [],
   "source": [
    "execute(\"\"\"{\n",
    "  scan(columns: {alias: \"match\", eq: [{name: \"county\"}, {name: \"city\"}]}) {\n",
    "    group(by: \"state\", aggregate: {any: {name: \"match\"}}) {\n",
    "      scan(filter: {inv: {name: \"match\"}}) {\n",
    "        columns {\n",
    "          state {\n",
    "            values\n",
    "          }\n",
    "        }\n",
    "      }\n",
    "    }\n",
    "  }\n",
    "}\"\"\")"
   ]
  }
 ],
 "metadata": {
  "kernelspec": {
   "display_name": "Python 3.10.6 ('.venv': venv)",
   "language": "python",
   "name": "python3"
  },
  "language_info": {
   "codemirror_mode": {
    "name": "ipython",
    "version": 3
   },
   "file_extension": ".py",
   "mimetype": "text/x-python",
   "name": "python",
   "nbconvert_exporter": "python",
   "pygments_lexer": "ipython3",
   "version": "3.11.4"
  },
  "orig_nbformat": 4,
  "vscode": {
   "interpreter": {
    "hash": "fe1d9005a8a33982f05f67810ca98c5c9c7de363fa0f442feea70330697eb4e5"
   }
  }
 },
 "nbformat": 4,
 "nbformat_minor": 2
}
