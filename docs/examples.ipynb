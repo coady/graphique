{
 "cells": [
  {
   "cell_type": "code",
   "execution_count": 1,
   "metadata": {},
   "outputs": [],
   "source": [
    "import pyarrow.dataset as ds\n",
    "from graphique import GraphQL\n",
    "\n",
    "\n",
    "def execute(query):\n",
    "    result = app.schema.execute_sync(query, root_value=app.root_value)\n",
    "    for error in result.errors or []:\n",
    "        raise ValueError(error)\n",
    "    return result.data\n",
    "\n",
    "\n",
    "format = ds.ParquetFileFormat(read_options={'dictionary_columns': ['state']})\n",
    "dataset = ds.dataset('../tests/fixtures/zipcodes.parquet', format=format)\n",
    "app = GraphQL(dataset)"
   ]
  },
  {
   "cell_type": "markdown",
   "metadata": {},
   "source": [
    "### Introspect the dataset."
   ]
  },
  {
   "cell_type": "code",
   "execution_count": 2,
   "metadata": {},
   "outputs": [
    {
     "data": {
      "text/plain": [
       "{'length': 41700,\n",
       " 'schema': {'names': ['latitude',\n",
       "   'longitude',\n",
       "   'state',\n",
       "   'city',\n",
       "   'county',\n",
       "   'zipcode'],\n",
       "  'types': ['double',\n",
       "   'double',\n",
       "   'dictionary<values=string, indices=int32, ordered=0>',\n",
       "   'string',\n",
       "   'string',\n",
       "   'int32'],\n",
       "  'partitioning': [],\n",
       "  'index': ['zipcode']}}"
      ]
     },
     "execution_count": 2,
     "metadata": {},
     "output_type": "execute_result"
    }
   ],
   "source": [
    "execute(\n",
    "    '''{\n",
    "  length\n",
    "  schema {\n",
    "    names\n",
    "    types\n",
    "    partitioning\n",
    "    index\n",
    "  }\n",
    "}'''\n",
    ")"
   ]
  },
  {
   "cell_type": "markdown",
   "metadata": {},
   "source": [
    "### Loading options\n",
    "* Scanner with camel-cased fields (not relevant in this dataset)\n",
    "* Table already read"
   ]
  },
  {
   "cell_type": "code",
   "execution_count": 3,
   "metadata": {},
   "outputs": [
    {
     "data": {
      "text/plain": [
       "<graphique.middleware.GraphQL at 0x109dc7090>"
      ]
     },
     "execution_count": 3,
     "metadata": {},
     "output_type": "execute_result"
    }
   ],
   "source": [
    "import pyarrow.compute as pc\n",
    "from strawberry.utils.str_converters import to_camel_case\n",
    "\n",
    "columns = {to_camel_case(name): pc.field(name) for name in dataset.schema.names}\n",
    "GraphQL(dataset.scanner(columns=columns))"
   ]
  },
  {
   "cell_type": "code",
   "execution_count": 4,
   "metadata": {},
   "outputs": [
    {
     "data": {
      "text/plain": [
       "<graphique.middleware.GraphQL at 0x10a0d2c10>"
      ]
     },
     "execution_count": 4,
     "metadata": {},
     "output_type": "execute_result"
    }
   ],
   "source": [
    "GraphQL(dataset.to_table())"
   ]
  },
  {
   "cell_type": "markdown",
   "metadata": {},
   "source": [
    "### Find California counties with the most cities.\n",
    "* `filter` state by \"CA\"\n",
    "* `group` by county\n",
    "  * aggregate distinct count of cities\n",
    "* `sort` by city counts descending\n",
    "* access `columns`\n",
    "  * `county` is still known in the schema\n",
    "  * cities is a new `column` accessed through an inline fragment"
   ]
  },
  {
   "cell_type": "code",
   "execution_count": 5,
   "metadata": {},
   "outputs": [
    {
     "data": {
      "text/plain": [
       "{'filter': {'group': {'sort': {'columns': {'county': {'values': ['Los Angeles',\n",
       "       'San Bernardino',\n",
       "       'San Diego',\n",
       "       'Orange',\n",
       "       'Riverside']}},\n",
       "    'cities': {'values': [132, 73, 52, 47, 42]}}}}}"
      ]
     },
     "execution_count": 5,
     "metadata": {},
     "output_type": "execute_result"
    }
   ],
   "source": [
    "execute(\n",
    "    '''{\n",
    "  filter(state: {eq: \"CA\"}) {\n",
    "    group(by: \"county\", aggregate: {countDistinct: {name: \"city\", alias: \"cities\"}}) {\n",
    "      sort(by: \"-cities\", length: 5) {\n",
    "        columns {\n",
    "          county {\n",
    "            values\n",
    "          }\n",
    "        }\n",
    "        cities: column(name: \"cities\") {\n",
    "          ... on LongColumn {\n",
    "            values\n",
    "          }\n",
    "        }\n",
    "      }\n",
    "    }\n",
    "  }\n",
    "}'''\n",
    ")"
   ]
  },
  {
   "cell_type": "markdown",
   "metadata": {},
   "source": [
    "### Find states with cities which match the name of their county.\n",
    "* `scan` instead of `filter`, because comparing two columns is not a \"simple\" query\n",
    "* `Column.unique` instead of `group`, because no other aggregates are needed"
   ]
  },
  {
   "cell_type": "code",
   "execution_count": 6,
   "metadata": {},
   "outputs": [
    {
     "data": {
      "text/plain": [
       "{'scan': {'columns': {'state': {'unique': {'length': 50,\n",
       "     'values': ['PR',\n",
       "      'MA',\n",
       "      'RI',\n",
       "      'NH',\n",
       "      'ME',\n",
       "      'VT',\n",
       "      'CT',\n",
       "      'NJ',\n",
       "      'NY',\n",
       "      'PA',\n",
       "      'DE',\n",
       "      'MD',\n",
       "      'VA',\n",
       "      'WV',\n",
       "      'NC',\n",
       "      'SC',\n",
       "      'FL',\n",
       "      'AL',\n",
       "      'TN',\n",
       "      'MS',\n",
       "      'KY',\n",
       "      'OH',\n",
       "      'IN',\n",
       "      'MI',\n",
       "      'IA',\n",
       "      'WI',\n",
       "      'MN',\n",
       "      'SD',\n",
       "      'ND',\n",
       "      'MT',\n",
       "      'IL',\n",
       "      'MO',\n",
       "      'KS',\n",
       "      'NE',\n",
       "      'LA',\n",
       "      'AR',\n",
       "      'OK',\n",
       "      'TX',\n",
       "      'CO',\n",
       "      'WY',\n",
       "      'ID',\n",
       "      'UT',\n",
       "      'AZ',\n",
       "      'NM',\n",
       "      'NV',\n",
       "      'CA',\n",
       "      'HI',\n",
       "      'OR',\n",
       "      'WA',\n",
       "      'AK']}}}}}"
      ]
     },
     "execution_count": 6,
     "metadata": {},
     "output_type": "execute_result"
    }
   ],
   "source": [
    "execute(\n",
    "    '''{\n",
    "  scan(filter: {eq: [{name: \"county\"}, {name: \"city\"}]}) {\n",
    "    columns {\n",
    "      state {\n",
    "        unique {\n",
    "          length\n",
    "          values\n",
    "        }\n",
    "      }\n",
    "    }\n",
    "  }\n",
    "}'''\n",
    ")"
   ]
  },
  {
   "cell_type": "markdown",
   "metadata": {},
   "source": [
    "### States which have no cities which match the name of their county.\n",
    "The opposite of the previous example. Filtering rows would drop needed data; the \"zeros\" have to be counted.\n",
    "* `scan` with projected column matching names instead of filtering\n",
    "* `group` by state\n",
    "  * aggregate whether there are `any` matches\n",
    "* `scan` for no matches\n",
    "* access column\n"
   ]
  },
  {
   "cell_type": "code",
   "execution_count": 7,
   "metadata": {},
   "outputs": [
    {
     "data": {
      "text/plain": [
       "{'scan': {'group': {'scan': {'columns': {'state': {'values': ['DC', 'GA']}}}}}}"
      ]
     },
     "execution_count": 7,
     "metadata": {},
     "output_type": "execute_result"
    }
   ],
   "source": [
    "execute(\n",
    "    '''{\n",
    "  scan(columns: {alias: \"match\", eq: [{name: \"county\"}, {name: \"city\"}]}) {\n",
    "    group(by: \"state\", aggregate: {any: {name: \"match\"}}) {\n",
    "      scan(filter: {inv: {name: \"match\"}}) {\n",
    "        columns {\n",
    "          state {\n",
    "            values\n",
    "          }\n",
    "        }\n",
    "      }\n",
    "    }\n",
    "  }\n",
    "}'''\n",
    ")"
   ]
  }
 ],
 "metadata": {
  "kernelspec": {
   "display_name": "Python 3.10.6 ('.venv': venv)",
   "language": "python",
   "name": "python3"
  },
  "language_info": {
   "codemirror_mode": {
    "name": "ipython",
    "version": 3
   },
   "file_extension": ".py",
   "mimetype": "text/x-python",
   "name": "python",
   "nbconvert_exporter": "python",
   "pygments_lexer": "ipython3",
   "version": "3.11.1"
  },
  "orig_nbformat": 4,
  "vscode": {
   "interpreter": {
    "hash": "fe1d9005a8a33982f05f67810ca98c5c9c7de363fa0f442feea70330697eb4e5"
   }
  }
 },
 "nbformat": 4,
 "nbformat_minor": 2
}
